{
 "cells": [
  {
   "cell_type": "code",
   "execution_count": 54,
   "id": "451f1a53-8e66-41e6-b201-dd3129b70240",
   "metadata": {},
   "outputs": [
    {
     "name": "stdout",
     "output_type": "stream",
     "text": [
      "    Рік В національній валюті В доларах США  \\\n",
      "0  1992              5832,88▲        28,04▼   \n",
      "1  1993               163533▲        36,03▲   \n",
      "2  1994              1426343▲        44,99▲   \n",
      "3  1995              7304000▲        49,53▲   \n",
      "4  1996               125,23▼        68,45▲   \n",
      "\n",
      "  Кількість кг хліба[20] на середню зарплату  \\\n",
      "0                                   1015,67▲   \n",
      "1                                    430,42▼   \n",
      "2                                    372,76▼   \n",
      "3                                    201,76▼   \n",
      "4                                    198,62▼   \n",
      "\n",
      "  Кількість БігМаків на середню зарплату  \n",
      "0                                      —  \n",
      "1                                      —  \n",
      "2                                      —  \n",
      "3                                      —  \n",
      "4                                      —  \n"
     ]
    }
   ],
   "source": [
    "import pandas as pd \n",
    "import numpy as np \n",
    "\n",
    "# Зчитуємо дані з вказаного URL \n",
    "url = \"https://uk.wikipedia.org/wiki/%D0%A1%D0%B5%D1%80%D0%B5%D0%B4%D0%BD%D1%8F_%D0%B7%D0%B0%D1%80%D0%BE%D0%B1%D1%96%D1%82%D0%BD%D0%B0_%D0%BF%D0%BB%D0%B0%D1%82%D0%B0_%D0%B2_%D0%A3%D0%BA%D1%80%D0%B0%D1%97%D0%BD%D1%96\"\n",
    "\n",
    "# Зчитуємо таблицю в DataFrame \n",
    "df = pd.read_html(url, header=0)[2] # Обираємо другий елемент списку, де знаходиться таблиця\n",
    "df_1 = df.head(5)\n",
    "column_name_usd = 'В доларах США'\n",
    "\n",
    "# Виводимо перші 5 рядків таблиці \n",
    "print(df_1)"
   ]
  },
  {
   "cell_type": "raw",
   "id": "021ed086-8c1f-430d-81a3-5488abdfd104",
   "metadata": {},
   "source": [
    "Визначте кількість рядків і стовпчиків за допомогою атрибуту shape "
   ]
  },
  {
   "cell_type": "code",
   "execution_count": 55,
   "id": "5a53a7b4-578b-4d16-912f-0e40292e5c8e",
   "metadata": {},
   "outputs": [
    {
     "name": "stdout",
     "output_type": "stream",
     "text": [
      "Кількість рядків: 32\n",
      "Кількість стовпчиків: 5\n"
     ]
    }
   ],
   "source": [
    "# Визначаємо кількість рядків і стовпчиків за допомогою атрибуту shape\n",
    "rows, columns = df.shape\n",
    "print(f'Кількість рядків: {rows}')\n",
    "print(f'Кількість стовпчиків: {columns}')"
   ]
  },
  {
   "cell_type": "raw",
   "id": "d9560699-fefb-47aa-a7b2-317c93cbc21c",
   "metadata": {},
   "source": [
    "Визначте загальну кількість років та кількість місяців у даних. "
   ]
  },
  {
   "cell_type": "code",
   "execution_count": 56,
   "id": "5c3313c4-a498-40c4-b385-7e6411a10732",
   "metadata": {},
   "outputs": [
    {
     "name": "stdout",
     "output_type": "stream",
     "text": [
      "Загальна кількість років: 32\n"
     ]
    }
   ],
   "source": [
    "# Отримуємо перший і останній рік з даних\n",
    "first_year = int(df['Рік'].min().replace(\"*\", \"\"))\n",
    "last_year = int(df['Рік'].max().replace(\"*\", \"\"))\n",
    "\n",
    "# Визначаємо загальну кількість років і місяців\n",
    "total_years = last_year - first_year + 1\n",
    "\n",
    "print(f'Загальна кількість років: {total_years}')"
   ]
  },
  {
   "cell_type": "raw",
   "id": "aaf02d9e-c437-4318-93e7-e628892c460a",
   "metadata": {},
   "source": [
    "Замінити пропущені значення  «-» в таблиці на NaN "
   ]
  },
  {
   "cell_type": "code",
   "execution_count": 57,
   "id": "5f048990-4c8c-4edc-bb39-a4e4f3acd983",
   "metadata": {},
   "outputs": [
    {
     "name": "stdout",
     "output_type": "stream",
     "text": [
      "      Рік В національній валюті В доларах США  \\\n",
      "0    1992              5832,88▲        28,04▼   \n",
      "1    1993               163533▲        36,03▲   \n",
      "2    1994              1426343▲        44,99▲   \n",
      "3    1995              7304000▲        49,53▲   \n",
      "4    1996               125,23▼        68,45▲   \n",
      "5    1997               143,09▲        76,86▲   \n",
      "6    1998               152,83▲        62,39▼   \n",
      "7    1999               177,39▲        42,95▼   \n",
      "8    2000               231,04▲        42,47▼   \n",
      "9    2001               311,62▲        58,01▲   \n",
      "10   2002               375,98▲        70,59▲   \n",
      "11   2003               462,58▲        86,74▲   \n",
      "12   2004               590,53▲       111,02▲   \n",
      "13   2005               806,14▲       157,30▲   \n",
      "14   2006              1042,88▲       206,51▲   \n",
      "15   2007              1352,75▲       267,87▲   \n",
      "16   2008              1808,92▲       343,43▲   \n",
      "17   2009              1909,25▲       245,05▼   \n",
      "18   2010              2246,75▲       283,12▲   \n",
      "19   2011              2639,17▲       331,24▲   \n",
      "20   2012              3031,92▲       379,42▲   \n",
      "21   2013              3273,82▲       409,59▲   \n",
      "22   2014              3474,75▲       292,32▼   \n",
      "23   2015              4207,33▲       162,60▼   \n",
      "24   2016              5187,33▲       203,02▲   \n",
      "25   2017              7105,42▲       267,16▲   \n",
      "26   2018              8867,33▲       325,99▲   \n",
      "27   2019             10503,75▲       406,40▲   \n",
      "28   2020             11596,60▲       430,21▲   \n",
      "29   2021             14017,80▲       514,41▲   \n",
      "30  2022*             13376,21▼       380,00▼   \n",
      "31  2023*             12954,12▼       327,70▼   \n",
      "\n",
      "   Кількість кг хліба[20] на середню зарплату  \\\n",
      "0                                    1015,67▲   \n",
      "1                                     430,42▼   \n",
      "2                                     372,76▼   \n",
      "3                                     201,76▼   \n",
      "4                                     198,62▼   \n",
      "5                                     211,13▲   \n",
      "6                                     177,69▼   \n",
      "7                                     180,68▲   \n",
      "8                                     117,51▼   \n",
      "9                                     153,57▲   \n",
      "10                                    213,84▲   \n",
      "11                                    276,27▲   \n",
      "12                                    276,06▼   \n",
      "13                                    332,05▲   \n",
      "14                                    441,28▲   \n",
      "15                                    498,66▲   \n",
      "16                                    585,00▲   \n",
      "17                                    497,02▼   \n",
      "18                                    527,82▲   \n",
      "19                                    564,37▲   \n",
      "20                                    585,38▲   \n",
      "21                                    625,00▲   \n",
      "22                                    642,39▲   \n",
      "23                                    517,22▼   \n",
      "24                                    441,05▼   \n",
      "25                                    450,35▲   \n",
      "26                                    497,05▲   \n",
      "27                                    528,09▲   \n",
      "28                                    549,08▲   \n",
      "29                                    560,03▲   \n",
      "30                                    409,57▼   \n",
      "31                                    367,85▼   \n",
      "\n",
      "   Кількість БігМаків на середню зарплату  \n",
      "0                                       —  \n",
      "1                                       —  \n",
      "2                                       —  \n",
      "3                                       —  \n",
      "4                                       —  \n",
      "5                                  20[21]  \n",
      "6                                    н.д.  \n",
      "7                                 24▲[22]  \n",
      "8                                    н.д.  \n",
      "9                                 50▲[23]  \n",
      "10                                   н.д.  \n",
      "11                                   н.д.  \n",
      "12                                    81▲  \n",
      "13                                   111▲  \n",
      "14                                   123▲  \n",
      "15                                   146▲  \n",
      "16                                   164▲  \n",
      "17                                   136▼  \n",
      "18                                   155▲  \n",
      "19                                   160▲  \n",
      "20                                   202▲  \n",
      "21                                   172▼  \n",
      "22                                   182▲  \n",
      "23                                   124▼  \n",
      "24                                   133▲  \n",
      "25                                   161▲  \n",
      "26                                   177▲  \n",
      "27                                   184▲  \n",
      "28                                   187▲  \n",
      "29                                   216▲  \n",
      "30                                   132▼  \n",
      "31                                   123▼  \n"
     ]
    }
   ],
   "source": [
    "df_replace = df\n",
    "df_replace = df_replace.apply(lambda x: x.str.replace('-', '', regex=False) if x.dtype == 'object' else x)\n",
    "print(df_replace)"
   ]
  },
  {
   "cell_type": "raw",
   "id": "fa64d2b0-4180-4802-9748-1c7cacecdbb6",
   "metadata": {},
   "source": [
    "Визначити тип стовпців за допомогою dtypes. "
   ]
  },
  {
   "cell_type": "code",
   "execution_count": 58,
   "id": "b92f1b08-4623-4171-8ecf-4bc104c5a711",
   "metadata": {},
   "outputs": [
    {
     "name": "stdout",
     "output_type": "stream",
     "text": [
      "Рік                                           object\n",
      "В національній валюті                         object\n",
      "В доларах США                                 object\n",
      "Кількість кг хліба[20] на середню зарплату    object\n",
      "Кількість БігМаків на середню зарплату        object\n",
      "dtype: object\n"
     ]
    }
   ],
   "source": [
    "# Визначення типів стовпців\n",
    "column_types = df.dtypes\n",
    "\n",
    "# Вивід типів стовпців\n",
    "print(column_types)"
   ]
  },
  {
   "cell_type": "raw",
   "id": "4a82c8ee-5406-4995-9cfa-ffbd4d47ebb9",
   "metadata": {},
   "source": [
    "Видаліть передостанній і останній стовпчики ( Кількість кгхліба[20] на середнюзарплату,  Кільксть БігМаків на середню зарплату). Далі працюйте з оновленою таблицею."
   ]
  },
  {
   "cell_type": "code",
   "execution_count": 59,
   "id": "69d0c425-5a74-41b4-b080-301990bf0474",
   "metadata": {},
   "outputs": [
    {
     "name": "stdout",
     "output_type": "stream",
     "text": [
      "      Рік В національній валюті В доларах США\n",
      "0    1992              5832,88▲        28,04▼\n",
      "1    1993               163533▲        36,03▲\n",
      "2    1994              1426343▲        44,99▲\n",
      "3    1995              7304000▲        49,53▲\n",
      "4    1996               125,23▼        68,45▲\n",
      "5    1997               143,09▲        76,86▲\n",
      "6    1998               152,83▲        62,39▼\n",
      "7    1999               177,39▲        42,95▼\n",
      "8    2000               231,04▲        42,47▼\n",
      "9    2001               311,62▲        58,01▲\n",
      "10   2002               375,98▲        70,59▲\n",
      "11   2003               462,58▲        86,74▲\n",
      "12   2004               590,53▲       111,02▲\n",
      "13   2005               806,14▲       157,30▲\n",
      "14   2006              1042,88▲       206,51▲\n",
      "15   2007              1352,75▲       267,87▲\n",
      "16   2008              1808,92▲       343,43▲\n",
      "17   2009              1909,25▲       245,05▼\n",
      "18   2010              2246,75▲       283,12▲\n",
      "19   2011              2639,17▲       331,24▲\n",
      "20   2012              3031,92▲       379,42▲\n",
      "21   2013              3273,82▲       409,59▲\n",
      "22   2014              3474,75▲       292,32▼\n",
      "23   2015              4207,33▲       162,60▼\n",
      "24   2016              5187,33▲       203,02▲\n",
      "25   2017              7105,42▲       267,16▲\n",
      "26   2018              8867,33▲       325,99▲\n",
      "27   2019             10503,75▲       406,40▲\n",
      "28   2020             11596,60▲       430,21▲\n",
      "29   2021             14017,80▲       514,41▲\n",
      "30  2022*             13376,21▼       380,00▼\n",
      "31  2023*             12954,12▼       327,70▼\n"
     ]
    }
   ],
   "source": [
    "# Видаляємо передостанній і останній стовпці за їх індексами\n",
    "df_delete_last_two_columns = df\n",
    "df_delete_last_two_columns = df_delete_last_two_columns.drop(df_delete_last_two_columns.columns[-1], axis=1)  # Видаляємо останній стовпець\n",
    "df_delete_last_two_columns = df_delete_last_two_columns.drop(df_delete_last_two_columns.columns[-1], axis=1)  # Видаляємо передостанній стовпець\n",
    "print(df_delete_last_two_columns)"
   ]
  },
  {
   "cell_type": "raw",
   "id": "5b69bb2c-9a0a-4f78-8f2a-efaaeb2a6d77",
   "metadata": {},
   "source": [
    "Замінити тип нечислових даних на числові. "
   ]
  },
  {
   "cell_type": "code",
   "execution_count": 60,
   "id": "3946b54a-d2a0-47ae-be60-d248171c3306",
   "metadata": {},
   "outputs": [
    {
     "name": "stdout",
     "output_type": "stream",
     "text": [
      "       Рік  В національній валюті  В доларах США  \\\n",
      "0   1992.0                5832.88          28.04   \n",
      "1   1993.0              163533.00          36.03   \n",
      "2   1994.0             1426343.00          44.99   \n",
      "3   1995.0             7304000.00          49.53   \n",
      "4   1996.0                 125.23          68.45   \n",
      "5   1997.0                 143.09          76.86   \n",
      "6   1998.0                 152.83          62.39   \n",
      "7   1999.0                 177.39          42.95   \n",
      "8   2000.0                 231.04          42.47   \n",
      "9   2001.0                 311.62          58.01   \n",
      "10  2002.0                 375.98          70.59   \n",
      "11  2003.0                 462.58          86.74   \n",
      "12  2004.0                 590.53         111.02   \n",
      "13  2005.0                 806.14         157.30   \n",
      "14  2006.0                1042.88         206.51   \n",
      "15  2007.0                1352.75         267.87   \n",
      "16  2008.0                1808.92         343.43   \n",
      "17  2009.0                1909.25         245.05   \n",
      "18  2010.0                2246.75         283.12   \n",
      "19  2011.0                2639.17         331.24   \n",
      "20  2012.0                3031.92         379.42   \n",
      "21  2013.0                3273.82         409.59   \n",
      "22  2014.0                3474.75         292.32   \n",
      "23  2015.0                4207.33         162.60   \n",
      "24  2016.0                5187.33         203.02   \n",
      "25  2017.0                7105.42         267.16   \n",
      "26  2018.0                8867.33         325.99   \n",
      "27  2019.0               10503.75         406.40   \n",
      "28  2020.0               11596.60         430.21   \n",
      "29  2021.0               14017.80         514.41   \n",
      "30     NaN               13376.21         380.00   \n",
      "31     NaN               12954.12         327.70   \n",
      "\n",
      "    Кількість кг хліба[20] на середню зарплату  \\\n",
      "0                                      1015.67   \n",
      "1                                       430.42   \n",
      "2                                       372.76   \n",
      "3                                       201.76   \n",
      "4                                       198.62   \n",
      "5                                       211.13   \n",
      "6                                       177.69   \n",
      "7                                       180.68   \n",
      "8                                       117.51   \n",
      "9                                       153.57   \n",
      "10                                      213.84   \n",
      "11                                      276.27   \n",
      "12                                      276.06   \n",
      "13                                      332.05   \n",
      "14                                      441.28   \n",
      "15                                      498.66   \n",
      "16                                      585.00   \n",
      "17                                      497.02   \n",
      "18                                      527.82   \n",
      "19                                      564.37   \n",
      "20                                      585.38   \n",
      "21                                      625.00   \n",
      "22                                      642.39   \n",
      "23                                      517.22   \n",
      "24                                      441.05   \n",
      "25                                      450.35   \n",
      "26                                      497.05   \n",
      "27                                      528.09   \n",
      "28                                      549.08   \n",
      "29                                      560.03   \n",
      "30                                      409.57   \n",
      "31                                      367.85   \n",
      "\n",
      "    Кількість БігМаків на середню зарплату  \n",
      "0                                      NaN  \n",
      "1                                      NaN  \n",
      "2                                      NaN  \n",
      "3                                      NaN  \n",
      "4                                      NaN  \n",
      "5                                      NaN  \n",
      "6                                      NaN  \n",
      "7                                      NaN  \n",
      "8                                      NaN  \n",
      "9                                      NaN  \n",
      "10                                     NaN  \n",
      "11                                     NaN  \n",
      "12                                    81.0  \n",
      "13                                   111.0  \n",
      "14                                   123.0  \n",
      "15                                   146.0  \n",
      "16                                   164.0  \n",
      "17                                   136.0  \n",
      "18                                   155.0  \n",
      "19                                   160.0  \n",
      "20                                   202.0  \n",
      "21                                   172.0  \n",
      "22                                   182.0  \n",
      "23                                   124.0  \n",
      "24                                   133.0  \n",
      "25                                   161.0  \n",
      "26                                   177.0  \n",
      "27                                   184.0  \n",
      "28                                   187.0  \n",
      "29                                   216.0  \n",
      "30                                   132.0  \n",
      "31                                   123.0  \n"
     ]
    }
   ],
   "source": [
    "# Заміна нечислових значень на NaN\n",
    "df_numeric = df\n",
    "# Очиста непотрібних символів, які будуть заважати заміні типа даних на числовий\n",
    "df_numeric = df_numeric.apply(lambda x: x.str.replace('▲', '', regex=False) if x.dtype == 'object' else x)\n",
    "df_numeric = df_numeric.apply(lambda x: x.str.replace('▼', '', regex=False) if x.dtype == 'object' else x)\n",
    "df_numeric = df_numeric.apply(lambda x: x.str.replace(',', '.', regex=False) if x.dtype == 'object' else x)\n",
    "# Замінити всі інші нечислові значення на NaN у всій таблиці\n",
    "df_numeric = df_numeric.apply(pd.to_numeric, errors='coerce')\n",
    "print(df_numeric)"
   ]
  },
  {
   "cell_type": "code",
   "execution_count": 61,
   "id": "91a41818-8f9f-4c4b-8148-8c3ad1d227d8",
   "metadata": {},
   "outputs": [
    {
     "name": "stdout",
     "output_type": "stream",
     "text": [
      "Частка пропусків в кожній колонці:\n",
      "Рік                                            6.25\n",
      "В національній валюті                          0.00\n",
      "В доларах США                                  0.00\n",
      "Кількість кг хліба[20] на середню зарплату     0.00\n",
      "Кількість БігМаків на середню зарплату        37.50\n",
      "dtype: float64\n"
     ]
    }
   ],
   "source": [
    "# Частка пропусків в кожній колонці\n",
    "missing_percentage = (df_numeric.isnull().sum() / len(df)) * 100\n",
    "\n",
    "# Вивід результатів\n",
    "print(\"Частка пропусків в кожній колонці:\")\n",
    "print(missing_percentage)"
   ]
  },
  {
   "cell_type": "raw",
   "id": "422fbdb9-e256-40ec-9b47-bcedb3628473",
   "metadata": {},
   "source": [
    "Замініть всі пропущені значення на середні значення по (стовпцю). "
   ]
  },
  {
   "cell_type": "code",
   "execution_count": 62,
   "id": "3d13e00c-426a-4721-939e-cc4d05dc05b0",
   "metadata": {},
   "outputs": [
    {
     "name": "stdout",
     "output_type": "stream",
     "text": [
      "       Рік  В національній валюті  В доларах США  \\\n",
      "0   1992.0                5832.88          28.04   \n",
      "1   1993.0              163533.00          36.03   \n",
      "2   1994.0             1426343.00          44.99   \n",
      "3   1995.0             7304000.00          49.53   \n",
      "4   1996.0                 125.23          68.45   \n",
      "5   1997.0                 143.09          76.86   \n",
      "6   1998.0                 152.83          62.39   \n",
      "7   1999.0                 177.39          42.95   \n",
      "8   2000.0                 231.04          42.47   \n",
      "9   2001.0                 311.62          58.01   \n",
      "10  2002.0                 375.98          70.59   \n",
      "11  2003.0                 462.58          86.74   \n",
      "12  2004.0                 590.53         111.02   \n",
      "13  2005.0                 806.14         157.30   \n",
      "14  2006.0                1042.88         206.51   \n",
      "15  2007.0                1352.75         267.87   \n",
      "16  2008.0                1808.92         343.43   \n",
      "17  2009.0                1909.25         245.05   \n",
      "18  2010.0                2246.75         283.12   \n",
      "19  2011.0                2639.17         331.24   \n",
      "20  2012.0                3031.92         379.42   \n",
      "21  2013.0                3273.82         409.59   \n",
      "22  2014.0                3474.75         292.32   \n",
      "23  2015.0                4207.33         162.60   \n",
      "24  2016.0                5187.33         203.02   \n",
      "25  2017.0                7105.42         267.16   \n",
      "26  2018.0                8867.33         325.99   \n",
      "27  2019.0               10503.75         406.40   \n",
      "28  2020.0               11596.60         430.21   \n",
      "29  2021.0               14017.80         514.41   \n",
      "30  2006.5               13376.21         380.00   \n",
      "31  2006.5               12954.12         327.70   \n",
      "\n",
      "    Кількість кг хліба[20] на середню зарплату  \\\n",
      "0                                      1015.67   \n",
      "1                                       430.42   \n",
      "2                                       372.76   \n",
      "3                                       201.76   \n",
      "4                                       198.62   \n",
      "5                                       211.13   \n",
      "6                                       177.69   \n",
      "7                                       180.68   \n",
      "8                                       117.51   \n",
      "9                                       153.57   \n",
      "10                                      213.84   \n",
      "11                                      276.27   \n",
      "12                                      276.06   \n",
      "13                                      332.05   \n",
      "14                                      441.28   \n",
      "15                                      498.66   \n",
      "16                                      585.00   \n",
      "17                                      497.02   \n",
      "18                                      527.82   \n",
      "19                                      564.37   \n",
      "20                                      585.38   \n",
      "21                                      625.00   \n",
      "22                                      642.39   \n",
      "23                                      517.22   \n",
      "24                                      441.05   \n",
      "25                                      450.35   \n",
      "26                                      497.05   \n",
      "27                                      528.09   \n",
      "28                                      549.08   \n",
      "29                                      560.03   \n",
      "30                                      409.57   \n",
      "31                                      367.85   \n",
      "\n",
      "    Кількість БігМаків на середню зарплату  \n",
      "0                                   153.45  \n",
      "1                                   153.45  \n",
      "2                                   153.45  \n",
      "3                                   153.45  \n",
      "4                                   153.45  \n",
      "5                                   153.45  \n",
      "6                                   153.45  \n",
      "7                                   153.45  \n",
      "8                                   153.45  \n",
      "9                                   153.45  \n",
      "10                                  153.45  \n",
      "11                                  153.45  \n",
      "12                                   81.00  \n",
      "13                                  111.00  \n",
      "14                                  123.00  \n",
      "15                                  146.00  \n",
      "16                                  164.00  \n",
      "17                                  136.00  \n",
      "18                                  155.00  \n",
      "19                                  160.00  \n",
      "20                                  202.00  \n",
      "21                                  172.00  \n",
      "22                                  182.00  \n",
      "23                                  124.00  \n",
      "24                                  133.00  \n",
      "25                                  161.00  \n",
      "26                                  177.00  \n",
      "27                                  184.00  \n",
      "28                                  187.00  \n",
      "29                                  216.00  \n",
      "30                                  132.00  \n",
      "31                                  123.00  \n"
     ]
    }
   ],
   "source": [
    "# Заміна пропущених значень на середні значення по стовпцях\n",
    "df_filled = df_numeric.fillna(df_numeric.mean())\n",
    "print(df_filled)"
   ]
  },
  {
   "cell_type": "raw",
   "id": "019ed4ee-270a-4def-bfb6-98b172cced0f",
   "metadata": {},
   "source": [
    "Знайдіть рік з найвищою зарплатою в Україні в грн і вкажіть цю зарплату. "
   ]
  },
  {
   "cell_type": "code",
   "execution_count": 63,
   "id": "9868ad9b-5acd-4cb5-81a4-1a3995501076",
   "metadata": {},
   "outputs": [
    {
     "name": "stdout",
     "output_type": "stream",
     "text": [
      "Рік з найвищою зарплатою: 2021.0\n",
      "Найвища зарплата в Україні в доларах: 514.41 usd\n"
     ]
    }
   ],
   "source": [
    "# Знаходження року з найвищою зарплатою\n",
    "id_of_column_salary_in_usd = 2\n",
    "year_with_highest_salary_index = df_numeric[df_numeric.columns[id_of_column_salary_in_usd]].idxmax()\n",
    "year_with_highest_salary = df_numeric.iat[year_with_highest_salary_index, 0]\n",
    "\n",
    "# Отримання значення зарплати в цьому році\n",
    "highest_salary = df_numeric.at[year_with_highest_salary_index, df_numeric.columns[id_of_column_salary_in_usd]]\n",
    "\n",
    "print(f'Рік з найвищою зарплатою: {year_with_highest_salary}')\n",
    "print(f'Найвища зарплата в Україні в доларах: {highest_salary} usd')"
   ]
  },
  {
   "cell_type": "raw",
   "id": "eb6ab6fa-29c0-42da-bd6c-45cfcd86c3cb",
   "metadata": {},
   "source": [
    "Знайдіть рік з мінімальною  зарплатою в Україні в дол. США і вкажіть цю зарплату. "
   ]
  },
  {
   "cell_type": "code",
   "execution_count": 64,
   "id": "8d81d6ce-6fd6-4ea3-9ba0-f4b6c51b2bdf",
   "metadata": {},
   "outputs": [
    {
     "name": "stdout",
     "output_type": "stream",
     "text": [
      "Рік з найнижчою зарплатою: 1992.0\n",
      "Найнижчою зарплата в Україні в доларах: 28.04 usd\n"
     ]
    }
   ],
   "source": [
    "id_of_column_salary_in_usd = 2\n",
    "year_with_highest_salary_index = df_numeric[df_numeric.columns[id_of_column_salary_in_usd]].idxmin()\n",
    "year_with_highest_salary = df_numeric.iat[year_with_highest_salary_index, 0]\n",
    "\n",
    "# Отримання значення зарплати в цьому році\n",
    "highest_salary = df_numeric.at[year_with_highest_salary_index, df_numeric.columns[id_of_column_salary_in_usd]]\n",
    "\n",
    "print(f'Рік з найнижчою зарплатою: {year_with_highest_salary}')\n",
    "print(f'Найнижчою зарплата в Україні в доларах: {highest_salary} usd')"
   ]
  },
  {
   "cell_type": "raw",
   "id": "b1b2aaef-49e0-41f4-8d04-ad7e1f6f86f1",
   "metadata": {},
   "source": [
    "Виведіть роки, коли зарплата в грн була вище середньої "
   ]
  },
  {
   "cell_type": "code",
   "execution_count": 65,
   "id": "afe1a99e-b860-4048-bb40-ea362f0a014a",
   "metadata": {},
   "outputs": [
    {
     "name": "stdout",
     "output_type": "stream",
     "text": [
      "Роки з зарплатою в гривнях вище середньої:\n",
      "15    2007.0\n",
      "16    2008.0\n",
      "17    2009.0\n",
      "18    2010.0\n",
      "19    2011.0\n",
      "20    2012.0\n",
      "21    2013.0\n",
      "22    2014.0\n",
      "25    2017.0\n",
      "26    2018.0\n",
      "27    2019.0\n",
      "28    2020.0\n",
      "29    2021.0\n",
      "30       NaN\n",
      "31       NaN\n",
      "Name: Рік, dtype: float64\n"
     ]
    }
   ],
   "source": [
    "# Розрахунок середньої зарплати в гривнях\n",
    "average_salary_gbp = df_numeric[column_name_usd].mean()\n",
    "\n",
    "# Вибір років, де зарплата в гривнях була вище середньої\n",
    "years_above_average = df_numeric[df_numeric[column_name_usd] > average_salary_gbp]['Рік']\n",
    "\n",
    "# Вивід років\n",
    "print(\"Роки з зарплатою в гривнях вище середньої:\")\n",
    "print(years_above_average)"
   ]
  },
  {
   "cell_type": "raw",
   "id": "4493356f-aee1-4940-ba22-185a13fb3987",
   "metadata": {},
   "source": [
    "Створіть графік, що відображає  зарплату в Україні з часом (за роками). "
   ]
  },
  {
   "cell_type": "code",
   "execution_count": 66,
   "id": "cdf4466f-311b-40d7-9282-26ee9e00b34b",
   "metadata": {},
   "outputs": [
    {
     "data": {
      "image/png": "[encoded data removed]",
      "text/plain": [
       "<Figure size 1200x600 with 1 Axes>"
      ]
     },
     "metadata": {},
     "output_type": "display_data"
    }
   ],
   "source": [
    "import matplotlib.pyplot as plt\n",
    "\n",
    "# Визначення даних для графіка\n",
    "years = df_numeric['Рік']\n",
    "salaries = df_numeric[column_name_usd]\n",
    "\n",
    "# Створення графіка\n",
    "plt.figure(figsize=(12, 6))\n",
    "plt.plot(years, salaries, marker='o', linestyle='-')\n",
    "plt.title('Зарплата в Україні за роками')\n",
    "plt.xlabel('Рік')\n",
    "plt.ylabel('Зарплата в гривнях')\n",
    "plt.grid(True)\n",
    "\n",
    "# Відображення графіка\n",
    "plt.show()"
   ]
  },
  {
   "cell_type": "raw",
   "id": "5bb03ec5-9269-4020-84a8-19fb9d7a5754",
   "metadata": {},
   "source": [
    "Видаліть останній рік з таблиці та виведіть оновлену таблицю. "
   ]
  },
  {
   "cell_type": "code",
   "execution_count": 67,
   "id": "63716d23-38a1-4591-8010-cbbf15ebfec0",
   "metadata": {},
   "outputs": [
    {
     "name": "stdout",
     "output_type": "stream",
     "text": [
      "       Рік  В національній валюті  В доларах США  \\\n",
      "0   1992.0                5832.88          28.04   \n",
      "1   1993.0              163533.00          36.03   \n",
      "2   1994.0             1426343.00          44.99   \n",
      "3   1995.0             7304000.00          49.53   \n",
      "4   1996.0                 125.23          68.45   \n",
      "5   1997.0                 143.09          76.86   \n",
      "6   1998.0                 152.83          62.39   \n",
      "7   1999.0                 177.39          42.95   \n",
      "8   2000.0                 231.04          42.47   \n",
      "9   2001.0                 311.62          58.01   \n",
      "10  2002.0                 375.98          70.59   \n",
      "11  2003.0                 462.58          86.74   \n",
      "12  2004.0                 590.53         111.02   \n",
      "13  2005.0                 806.14         157.30   \n",
      "14  2006.0                1042.88         206.51   \n",
      "15  2007.0                1352.75         267.87   \n",
      "16  2008.0                1808.92         343.43   \n",
      "17  2009.0                1909.25         245.05   \n",
      "18  2010.0                2246.75         283.12   \n",
      "19  2011.0                2639.17         331.24   \n",
      "20  2012.0                3031.92         379.42   \n",
      "21  2013.0                3273.82         409.59   \n",
      "22  2014.0                3474.75         292.32   \n",
      "23  2015.0                4207.33         162.60   \n",
      "24  2016.0                5187.33         203.02   \n",
      "25  2017.0                7105.42         267.16   \n",
      "26  2018.0                8867.33         325.99   \n",
      "27  2019.0               10503.75         406.40   \n",
      "28  2020.0               11596.60         430.21   \n",
      "29  2021.0               14017.80         514.41   \n",
      "30     NaN               13376.21         380.00   \n",
      "\n",
      "    Кількість кг хліба[20] на середню зарплату  \\\n",
      "0                                      1015.67   \n",
      "1                                       430.42   \n",
      "2                                       372.76   \n",
      "3                                       201.76   \n",
      "4                                       198.62   \n",
      "5                                       211.13   \n",
      "6                                       177.69   \n",
      "7                                       180.68   \n",
      "8                                       117.51   \n",
      "9                                       153.57   \n",
      "10                                      213.84   \n",
      "11                                      276.27   \n",
      "12                                      276.06   \n",
      "13                                      332.05   \n",
      "14                                      441.28   \n",
      "15                                      498.66   \n",
      "16                                      585.00   \n",
      "17                                      497.02   \n",
      "18                                      527.82   \n",
      "19                                      564.37   \n",
      "20                                      585.38   \n",
      "21                                      625.00   \n",
      "22                                      642.39   \n",
      "23                                      517.22   \n",
      "24                                      441.05   \n",
      "25                                      450.35   \n",
      "26                                      497.05   \n",
      "27                                      528.09   \n",
      "28                                      549.08   \n",
      "29                                      560.03   \n",
      "30                                      409.57   \n",
      "\n",
      "    Кількість БігМаків на середню зарплату  \n",
      "0                                      NaN  \n",
      "1                                      NaN  \n",
      "2                                      NaN  \n",
      "3                                      NaN  \n",
      "4                                      NaN  \n",
      "5                                      NaN  \n",
      "6                                      NaN  \n",
      "7                                      NaN  \n",
      "8                                      NaN  \n",
      "9                                      NaN  \n",
      "10                                     NaN  \n",
      "11                                     NaN  \n",
      "12                                    81.0  \n",
      "13                                   111.0  \n",
      "14                                   123.0  \n",
      "15                                   146.0  \n",
      "16                                   164.0  \n",
      "17                                   136.0  \n",
      "18                                   155.0  \n",
      "19                                   160.0  \n",
      "20                                   202.0  \n",
      "21                                   172.0  \n",
      "22                                   182.0  \n",
      "23                                   124.0  \n",
      "24                                   133.0  \n",
      "25                                   161.0  \n",
      "26                                   177.0  \n",
      "27                                   184.0  \n",
      "28                                   187.0  \n",
      "29                                   216.0  \n",
      "30                                   132.0  \n"
     ]
    }
   ],
   "source": [
    "# Видалення останнього року з таблиці\n",
    "df_numeric = df_numeric.drop(df_numeric.index[-1])\n",
    "\n",
    "# Виведення оновленої таблиці\n",
    "print(df_numeric)"
   ]
  },
  {
   "cell_type": "raw",
   "id": "cd21af91-61da-4de0-af0a-a3fd61dc3b97",
   "metadata": {},
   "source": [
    "Побудуйте графік, що відображає середню зарплату в Україні в розрізі років без останнього року. "
   ]
  },
  {
   "cell_type": "code",
   "execution_count": 68,
   "id": "9bf7915e-be4e-46c7-8b93-e09e8a5f7049",
   "metadata": {},
   "outputs": [
    {
     "data": {
      "image/png": "[encoded data removed]",
      "text/plain": [
       "<Figure size 1200x600 with 1 Axes>"
      ]
     },
     "metadata": {},
     "output_type": "display_data"
    }
   ],
   "source": [
    "import matplotlib.pyplot as plt\n",
    "\n",
    "# Визначення даних для графіка\n",
    "years = df_numeric['Рік']\n",
    "salaries = df_numeric[column_name_usd]\n",
    "\n",
    "# Створення графіка\n",
    "plt.figure(figsize=(12, 6))\n",
    "plt.plot(years, salaries, marker='o', linestyle='-')\n",
    "plt.title('Зарплата в Україні за роками')\n",
    "plt.xlabel('Рік')\n",
    "plt.ylabel('Зарплата в гривнях')\n",
    "plt.grid(True)\n",
    "\n",
    "# Відображення графіка\n",
    "plt.show()"
   ]
  },
  {
   "cell_type": "raw",
   "id": "3c45b2aa-7985-40a1-ba71-584000a72136",
   "metadata": {},
   "source": [
    "Обчисліть зарплату за останні два роки і порівняйте її із зарплатою за останні 5 років. Вкажіть, чи є різниця, і в якому напрямку. "
   ]
  },
  {
   "cell_type": "code",
   "execution_count": 69,
   "id": "6d7d8f2b-426a-49e6-9693-d17008df22ee",
   "metadata": {},
   "outputs": [
    {
     "name": "stdout",
     "output_type": "stream",
     "text": [
      "Зарплата за останні два роки більша на 35.803000000000054 usd\n"
     ]
    }
   ],
   "source": [
    "# Вибір даних за останні два роки\n",
    "last_two_years = df_numeric.tail(2)[column_name_usd]\n",
    "\n",
    "# Вибір даних за останні п'ять років\n",
    "last_five_years = df_numeric.tail(5)[column_name_usd]\n",
    "\n",
    "# Обчислення різниці між зарплатою за останніми двома та п'ятьма роками\n",
    "difference = last_two_years.mean() - last_five_years.mean()\n",
    "\n",
    "# Порівняння різниці та виведення результату\n",
    "if difference > 0:\n",
    "    print(f\"Зарплата за останні два роки більша на {abs(difference)} usd\")\n",
    "elif difference < 0:\n",
    "    print(f\"Зарплата за останні два роки менша на {abs(difference)} usd\")\n",
    "else:\n",
    "    print(\"Зарплата за останні два роки така ж, як за останні п'ять років\")\n"
   ]
  },
  {
   "cell_type": "code",
   "execution_count": null,
   "id": "a46b212b-9d41-45b1-ba6b-24efce1de3a9",
   "metadata": {},
   "outputs": [],
   "source": []
  }
 ],
 "metadata": {
  "kernelspec": {
   "display_name": "Python 3 (ipykernel)",
   "language": "python",
   "name": "python3"
  },
  "language_info": {
   "codemirror_mode": {
    "name": "ipython",
    "version": 3
   },
   "file_extension": ".py",
   "mimetype": "text/x-python",
   "name": "python",
   "nbconvert_exporter": "python",
   "pygments_lexer": "ipython3",
   "version": "3.11.4"
  }
 },
 "nbformat": 4,
 "nbformat_minor": 5
}
