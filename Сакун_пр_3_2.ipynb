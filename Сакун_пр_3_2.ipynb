{
 "cells": [
  {
   "cell_type": "raw",
   "id": "ca969d75-e488-4ddd-8f62-b0d65b2ad2af",
   "metadata": {},
   "source": [
    "1. Прочитайте csv файл (метод read_csv) "
   ]
  },
  {
   "cell_type": "code",
   "execution_count": 1,
   "id": "005722ca-9a82-472c-810a-fa242fd3b806",
   "metadata": {},
   "outputs": [],
   "source": [
    "import pandas as pd\n",
    "\n",
    "# Завантажте датасет\n",
    "file_path = \"bestsellers.csv\"  # Замініть це на шлях до файлу на вашому комп'ютері\n",
    "\n",
    "# Прочитайте csv файл\n",
    "df = pd.read_csv(file_path)"
   ]
  },
  {
   "cell_type": "raw",
   "id": "44812725-9159-423a-b199-acd628fe6249",
   "metadata": {},
   "source": [
    "Виведіть перші 10 рядків (метод head) "
   ]
  },
  {
   "cell_type": "code",
   "execution_count": 2,
   "id": "fcf4b202-c441-492b-9bf2-3b18d5937fc8",
   "metadata": {},
   "outputs": [
    {
     "name": "stdout",
     "output_type": "stream",
     "text": [
      "                                                Name  \\\n",
      "0                      10-Day Green Smoothie Cleanse   \n",
      "1                                  11/22/63: A Novel   \n",
      "2            12 Rules for Life: An Antidote to Chaos   \n",
      "3                             1984 (Signet Classics)   \n",
      "4  5,000 Awesome Facts (About Everything!) (Natio...   \n",
      "5      A Dance with Dragons (A Song of Ice and Fire)   \n",
      "6  A Game of Thrones / A Clash of Kings / A Storm...   \n",
      "7                     A Gentleman in Moscow: A Novel   \n",
      "8      A Higher Loyalty: Truth, Lies, and Leadership   \n",
      "9                          A Man Called Ove: A Novel   \n",
      "\n",
      "                     Author  User Rating  Reviews  Price  Year        Genre  \n",
      "0                  JJ Smith          4.7    17350      8  2016  Non Fiction  \n",
      "1              Stephen King          4.6     2052     22  2011      Fiction  \n",
      "2        Jordan B. Peterson          4.7    18979     15  2018  Non Fiction  \n",
      "3             George Orwell          4.7    21424      6  2017      Fiction  \n",
      "4  National Geographic Kids          4.8     7665     12  2019  Non Fiction  \n",
      "5       George R. R. Martin          4.4    12643     11  2011      Fiction  \n",
      "6       George R. R. Martin          4.7    19735     30  2014      Fiction  \n",
      "7               Amor Towles          4.7    19699     15  2017      Fiction  \n",
      "8               James Comey          4.7     5983      3  2018  Non Fiction  \n",
      "9           Fredrik Backman          4.6    23848      8  2016      Fiction  \n"
     ]
    }
   ],
   "source": [
    "print(df.head(10))"
   ]
  },
  {
   "cell_type": "raw",
   "id": "252d785c-3225-4b94-972c-fa7e72eddb9b",
   "metadata": {},
   "source": [
    "Виведіть розміри датасету (метод shape)\n",
    "Питання: Про скільки книг зберігає дані датасет? "
   ]
  },
  {
   "cell_type": "code",
   "execution_count": 4,
   "id": "54f1aec3-a1e3-45c9-83cb-294447a033cf",
   "metadata": {},
   "outputs": [
    {
     "name": "stdout",
     "output_type": "stream",
     "text": [
      "(550, 7)\n",
      "Кількість книг у датасеті: 550\n"
     ]
    }
   ],
   "source": [
    "print(df.shape)\n",
    "books_amount = df.shape[0]\n",
    "print(\"Кількість книг у датасеті:\", books_amount)"
   ]
  },
  {
   "cell_type": "raw",
   "id": "e74e4726-193c-45a6-8e55-af31b3d536e2",
   "metadata": {},
   "source": [
    "Змініть назви всіх колонок: назва з маленької букви, без пробілів через підкреслення."
   ]
  },
  {
   "cell_type": "code",
   "execution_count": 7,
   "id": "e0cd3822-bc00-43a8-9e7d-dc8771a6df7d",
   "metadata": {},
   "outputs": [
    {
     "name": "stdout",
     "output_type": "stream",
     "text": [
      "                                                name  \\\n",
      "0                      10-Day Green Smoothie Cleanse   \n",
      "1                                  11/22/63: A Novel   \n",
      "2            12 Rules for Life: An Antidote to Chaos   \n",
      "3                             1984 (Signet Classics)   \n",
      "4  5,000 Awesome Facts (About Everything!) (Natio...   \n",
      "5      A Dance with Dragons (A Song of Ice and Fire)   \n",
      "6  A Game of Thrones / A Clash of Kings / A Storm...   \n",
      "7                     A Gentleman in Moscow: A Novel   \n",
      "8      A Higher Loyalty: Truth, Lies, and Leadership   \n",
      "9                          A Man Called Ove: A Novel   \n",
      "\n",
      "                     author  user_rating  reviews  price  year        genre  \n",
      "0                  JJ Smith          4.7    17350      8  2016  Non Fiction  \n",
      "1              Stephen King          4.6     2052     22  2011      Fiction  \n",
      "2        Jordan B. Peterson          4.7    18979     15  2018  Non Fiction  \n",
      "3             George Orwell          4.7    21424      6  2017      Fiction  \n",
      "4  National Geographic Kids          4.8     7665     12  2019  Non Fiction  \n",
      "5       George R. R. Martin          4.4    12643     11  2011      Fiction  \n",
      "6       George R. R. Martin          4.7    19735     30  2014      Fiction  \n",
      "7               Amor Towles          4.7    19699     15  2017      Fiction  \n",
      "8               James Comey          4.7     5983      3  2018  Non Fiction  \n",
      "9           Fredrik Backman          4.6    23848      8  2016      Fiction  \n"
     ]
    }
   ],
   "source": [
    "df.columns = ['name', 'author', 'user_rating', 'reviews', 'price', 'year', 'genre']\n",
    "\n",
    "# Виведіть перші 10 рядків для перевірки\n",
    "print(df.head(10))"
   ]
  },
  {
   "cell_type": "raw",
   "id": "a92bdb78-6059-4031-949c-e719001c4f33",
   "metadata": {},
   "source": [
    "Вивести кількість пропусків у кожному стовпчику. \n",
    "\n",
    "Питання : Чи є в якихось змінних пропуски? (Так / ні) "
   ]
  },
  {
   "cell_type": "code",
   "execution_count": 8,
   "id": "d37baccd-cdcc-47f4-9017-3fabbb48e3f4",
   "metadata": {},
   "outputs": [
    {
     "name": "stdout",
     "output_type": "stream",
     "text": [
      "Кількість пропусків у кожному стовпці:\n",
      "name           0\n",
      "author         0\n",
      "user_rating    0\n",
      "reviews        0\n",
      "price          0\n",
      "year           0\n",
      "genre          0\n",
      "dtype: int64\n",
      "Ні, пропусків в змінних немає.\n"
     ]
    }
   ],
   "source": [
    "# Визначте кількість пропусків у кожному стовпці\n",
    "missing_values = df.isna().sum()\n",
    "\n",
    "# Виведіть кількість пропусків\n",
    "print(\"Кількість пропусків у кожному стовпці:\")\n",
    "print(missing_values)\n",
    "\n",
    "# Перевірте, чи є пропуски в змінних (Так / Ні)\n",
    "if missing_values.sum() > 0:\n",
    "    print(\"Так, є пропуски в змінних.\")\n",
    "else:\n",
    "    print(\"Ні, пропусків в змінних немає.\")"
   ]
  },
  {
   "cell_type": "raw",
   "id": "1dd726ee-8d20-4e9d-97d6-740bac31863f",
   "metadata": {},
   "source": [
    "За допомогою методу unique  перевірте. Які є унікальні жанри в стовпці genre  \n",
    "\n",
    "Питання : Які є унікальні жанри? "
   ]
  },
  {
   "cell_type": "code",
   "execution_count": 9,
   "id": "26c5493e-382b-456d-9e10-968317114976",
   "metadata": {},
   "outputs": [
    {
     "name": "stdout",
     "output_type": "stream",
     "text": [
      "Унікальні жанри:\n",
      "['Non Fiction' 'Fiction']\n"
     ]
    }
   ],
   "source": [
    "# Отримайте унікальні жанри зі стовпця \"genre\"\n",
    "unique_genres = df['genre'].unique()\n",
    "\n",
    "# Виведіть унікальні жанри\n",
    "print(\"Унікальні жанри:\")\n",
    "print(unique_genres)"
   ]
  },
  {
   "cell_type": "raw",
   "id": "c21e5dcb-16f2-43ff-a62e-9813b38c494e",
   "metadata": {},
   "source": [
    "Визначте максимальну, мінімальну, медіанну ціну за допомогою методів  max, min, mean, median \n",
    "\n",
    "Питання: Максимальна ціна? \n",
    "\n",
    "Питання: Мінімальна ціна? \n",
    "\n",
    "Питання: Середня ціна? \n",
    "\n",
    "Питання: Медіанна ціна? "
   ]
  },
  {
   "cell_type": "code",
   "execution_count": 10,
   "id": "deeaea14-66e0-47d1-8f08-a91788056a35",
   "metadata": {},
   "outputs": [
    {
     "name": "stdout",
     "output_type": "stream",
     "text": [
      "Максимальна ціна: 105\n",
      "Мінімальна ціна: 0\n",
      "Середня ціна: 13.1\n",
      "Медіанна ціна: 11.0\n"
     ]
    }
   ],
   "source": [
    "# Максимальна ціна\n",
    "max_price = df['price'].max()\n",
    "\n",
    "# Мінімальна ціна\n",
    "min_price = df['price'].min()\n",
    "\n",
    "# Середня ціна\n",
    "mean_price = df['price'].mean()\n",
    "\n",
    "# Медіанна ціна\n",
    "median_price = df['price'].median()\n",
    "\n",
    "# Виведіть результати\n",
    "print(\"Максимальна ціна:\", max_price)\n",
    "print(\"Мінімальна ціна:\", min_price)\n",
    "print(\"Середня ціна:\", mean_price)\n",
    "print(\"Медіанна ціна:\", median_price)"
   ]
  },
  {
   "cell_type": "raw",
   "id": "c8497962-64aa-48f1-9b9d-1b90df05207b",
   "metadata": {},
   "source": [
    "Виконайте наступні завдання з пошуку і сортування даних \n",
    "\n",
    "Питання: Який рейтинг у датасеті найвищий?  \n",
    "\n",
    "Питання: Скільки книг мають такий рейтинг?  \n",
    "\n",
    "Питання: Яка книга має найбільше відгуків?  \n",
    "\n",
    "Питання: З тих книг, що потрапили до Топ-50 у 2010 році, яка книга найдорожча ? \n",
    "\n",
    "Питання : Скільки книг жанру Fiction потрапили до Топ-50 у 2012 році  \n",
    "\n",
    "Питання : Скільки книг з рейтингом 4.9 потрапило до рейтингу у 2010 та 2011 роках (використовуйте | або метод isin)? "
   ]
  },
  {
   "cell_type": "code",
   "execution_count": 11,
   "id": "79eaf02f-beab-41d5-9d79-5c9cb42d934a",
   "metadata": {},
   "outputs": [
    {
     "name": "stdout",
     "output_type": "stream",
     "text": [
      "Найвищий рейтинг у датасеті: 4.9\n",
      "Кількість книг з найвищим рейтингом: 52\n",
      "Книга з найбільшою кількістю відгуків:\n",
      "                        name  reviews\n",
      "534  Where the Crawdads Sing    87841\n",
      "Найдорожча книга серед книг 2010 року:\n",
      "                                                  name  price\n",
      "272  Publication Manual of the American Psychologic...     46\n",
      "Кількість книг жанру Fiction у 2012 році: 21\n",
      "Кількість книг з рейтингом 4.9 у 2010 та 2011 роках: 1\n"
     ]
    }
   ],
   "source": [
    "# Який рейтинг у датасеті найвищий?\n",
    "max_rating = df['user_rating'].max()\n",
    "print(\"Найвищий рейтинг у датасеті:\", max_rating)\n",
    "\n",
    "# Скільки книг мають такий рейтинг?\n",
    "books_with_max_rating = df[df['user_rating'] == max_rating]\n",
    "count_books_with_max_rating = len(books_with_max_rating)\n",
    "print(\"Кількість книг з найвищим рейтингом:\", count_books_with_max_rating)\n",
    "\n",
    "# Яка книга має найбільше відгуків?\n",
    "book_with_max_reviews = df[df['reviews'] == df['reviews'].max()]\n",
    "print(\"Книга з найбільшою кількістю відгуків:\")\n",
    "print(book_with_max_reviews[['name', 'reviews']])\n",
    "\n",
    "# З тих книг, що потрапили до Топ-50 у 2010 році, яка книга найдорожча?\n",
    "books_2010 = df[df['year'] == 2010]\n",
    "most_expensive_2010 = books_2010[books_2010['price'] == books_2010['price'].max()]\n",
    "print(\"Найдорожча книга серед книг 2010 року:\")\n",
    "print(most_expensive_2010[['name', 'price']])\n",
    "\n",
    "# Скільки книг жанру Fiction потрапили до Топ-50 у 2012 році?\n",
    "fiction_2012 = df[(df['year'] == 2012) & (df['genre'] == 'Fiction')]\n",
    "count_fiction_2012 = len(fiction_2012)\n",
    "print(\"Кількість книг жанру Fiction у 2012 році:\", count_fiction_2012)\n",
    "\n",
    "# Скільки книг з рейтингом 4.9 потрапило до рейтингу у 2010 та 2011 роках (використовуйте | або метод isin)?\n",
    "rating_4_9_2010_2011 = df[(df['user_rating'] == 4.9) & (df['year'].isin([2010, 2011]))]\n",
    "count_rating_4_9_2010_2011 = len(rating_4_9_2010_2011)\n",
    "print(\"Кількість книг з рейтингом 4.9 у 2010 та 2011 роках:\", count_rating_4_9_2010_2011)\n"
   ]
  },
  {
   "cell_type": "raw",
   "id": "03546bdc-b080-4fbd-9180-c430fcb72dbd",
   "metadata": {},
   "source": [
    "Вивести максимальну і  мінімальну ціну для жанру Fiction I NonFiction (за допомогою методів  groupby та agg, для підрахунку мінімальних та максимальних значень використовуйте max та min). Використовуйте тількі потрібні вам стовпці. "
   ]
  },
  {
   "cell_type": "code",
   "execution_count": 12,
   "id": "a59b0562-7e0f-46ec-88d5-6adcc1247fef",
   "metadata": {},
   "outputs": [
    {
     "name": "stdout",
     "output_type": "stream",
     "text": [
      "             Максимальна ціна  Мінімальна ціна\n",
      "genre                                         \n",
      "Fiction                    82                0\n",
      "Non Fiction               105                0\n"
     ]
    }
   ],
   "source": [
    "# Групуємо дані за жанр і обчислюємо максимальну та мінімальну ціну для кожного жанру\n",
    "genre_prices = df.groupby('genre')['price'].agg(['max', 'min'])\n",
    "\n",
    "# Перейменовуємо стовпці для зрозумілості\n",
    "genre_prices = genre_prices.rename(columns={'max': 'Максимальна ціна', 'min': 'Мінімальна ціна'})\n",
    "\n",
    "# Виводимо результат\n",
    "print(genre_prices)"
   ]
  },
  {
   "cell_type": "raw",
   "id": "22ec80d2-0350-4207-908d-2fadc9e984bc",
   "metadata": {},
   "source": [
    "Під час роботи з датасетом \"Amazon Top 50 Bestselling Books 2009 – 2019\" я вивчив основні прийоми роботи з даними за допомогою бібліотеки pandas у Python. За допомогою цих прийомів я змінив назви стовпців, визначив кількість пропусків у даних, знайшов унікальні жанри, обчислив максимальну і мінімальну ціну для жанрів \"Fiction\" і \"NonFiction\", а також відповів на різні запитання, що стосуються рейтингу, відгуків і років видання книг.\n",
    "\n",
    "Я вивчив, як ефективно виконувати операції по фільтрації, групуванню, підрахунку статистичних показників і виводу результатів."
   ]
  }
 ],
 "metadata": {
  "kernelspec": {
   "display_name": "Python 3 (ipykernel)",
   "language": "python",
   "name": "python3"
  },
  "language_info": {
   "codemirror_mode": {
    "name": "ipython",
    "version": 3
   },
   "file_extension": ".py",
   "mimetype": "text/x-python",
   "name": "python",
   "nbconvert_exporter": "python",
   "pygments_lexer": "ipython3",
   "version": "3.11.4"
  }
 },
 "nbformat": 4,
 "nbformat_minor": 5
}
