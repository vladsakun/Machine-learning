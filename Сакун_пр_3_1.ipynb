{
 "cells": [
  {
   "cell_type": "raw",
   "id": "f00283f5-7f16-489b-87e5-dc66adf7003f",
   "metadata": {},
   "source": [
    "1. Прочитайте CSV файл (використовуйте метод read_csv):"
   ]
  },
  {
   "cell_type": "code",
   "execution_count": 37,
   "id": "f0a746dd-cd29-482e-8aef-76faad7d5052",
   "metadata": {},
   "outputs": [],
   "source": [
    "import pandas as pd\n",
    "import numpy as np\n",
    "\n",
    "# Читаємо CSV файл за допомогою pandas\n",
    "df = pd.read_csv('youtube.csv', encoding='latin-1')"
   ]
  },
  {
   "cell_type": "raw",
   "id": "fd0c533e-4d98-4846-9bf2-292745a2af37",
   "metadata": {},
   "source": [
    "2. Виведіть перші п'ять рядків (використовується метод head): "
   ]
  },
  {
   "cell_type": "code",
   "execution_count": 38,
   "id": "505165e1-7f77-4ebf-9d28-8ec30e2661c1",
   "metadata": {},
   "outputs": [
    {
     "name": "stdout",
     "output_type": "stream",
     "text": [
      "   rank                    Youtuber  subscribers   video views  \\\n",
      "0     1                    T-Series    245000000  2.280000e+11   \n",
      "1     2              YouTube Movies    170000000  0.000000e+00   \n",
      "2     3                     MrBeast    166000000  2.836884e+10   \n",
      "3     4  Cocomelon - Nursery Rhymes    162000000  1.640000e+11   \n",
      "4     5                   SET India    159000000  1.480000e+11   \n",
      "\n",
      "           category                       Title  uploads        Country  \\\n",
      "0             Music                    T-Series    20082          India   \n",
      "1  Film & Animation               youtubemovies        1  United States   \n",
      "2     Entertainment                     MrBeast      741  United States   \n",
      "3         Education  Cocomelon - Nursery Rhymes      966  United States   \n",
      "4             Shows                   SET India   116536          India   \n",
      "\n",
      "  Abbreviation   channel_type  ...  subscribers_for_last_30_days  \\\n",
      "0           IN          Music  ...                     2000000.0   \n",
      "1           US          Games  ...                           NaN   \n",
      "2           US  Entertainment  ...                     8000000.0   \n",
      "3           US      Education  ...                     1000000.0   \n",
      "4           IN  Entertainment  ...                     1000000.0   \n",
      "\n",
      "   created_year  created_month  created_date  \\\n",
      "0        2006.0            Mar          13.0   \n",
      "1        2006.0            Mar           5.0   \n",
      "2        2012.0            Feb          20.0   \n",
      "3        2006.0            Sep           1.0   \n",
      "4        2006.0            Sep          20.0   \n",
      "\n",
      "   Gross tertiary education enrollment (%)    Population  Unemployment rate  \\\n",
      "0                                     28.1  1.366418e+09               5.36   \n",
      "1                                     88.2  3.282395e+08              14.70   \n",
      "2                                     88.2  3.282395e+08              14.70   \n",
      "3                                     88.2  3.282395e+08              14.70   \n",
      "4                                     28.1  1.366418e+09               5.36   \n",
      "\n",
      "   Urban_population   Latitude  Longitude  \n",
      "0       471031528.0  20.593684  78.962880  \n",
      "1       270663028.0  37.090240 -95.712891  \n",
      "2       270663028.0  37.090240 -95.712891  \n",
      "3       270663028.0  37.090240 -95.712891  \n",
      "4       471031528.0  20.593684  78.962880  \n",
      "\n",
      "[5 rows x 28 columns]\n"
     ]
    }
   ],
   "source": [
    "df_head_5 = df.head(5)\n",
    "print(df_head_5)"
   ]
  },
  {
   "cell_type": "raw",
   "id": "56f312f6-f0cb-4bd4-8baa-fac3eb50cb78",
   "metadata": {},
   "source": [
    "3. Виведіть розміри датасету (використовуйте метод shape)"
   ]
  },
  {
   "cell_type": "code",
   "execution_count": 39,
   "id": "ebc9bea6-f560-4e8d-8b2e-6c82fc9e2fff",
   "metadata": {},
   "outputs": [
    {
     "name": "stdout",
     "output_type": "stream",
     "text": [
      "(995, 28)\n"
     ]
    }
   ],
   "source": [
    "print(df.shape)"
   ]
  },
  {
   "cell_type": "raw",
   "id": "98ec594e-b8e2-4be7-b31c-305764ee6cbb",
   "metadata": {},
   "source": [
    "4. Перевірте, чи у всіх рядків вистачає даних: виведіть кількість пропусків  у кожному зі стовпців (використовуйте методи isna та sum). \n",
    "Якщо є пропуски, замінить їх на NaN, потім тип даних на числовий. "
   ]
  },
  {
   "cell_type": "code",
   "execution_count": 40,
   "id": "3e21f4aa-fae0-4d52-af31-4fbd1a168363",
   "metadata": {},
   "outputs": [
    {
     "name": "stdout",
     "output_type": "stream",
     "text": [
      "Кількість пропусків у кожному стовпці:\n",
      "rank                                         0\n",
      "Youtuber                                     0\n",
      "subscribers                                  0\n",
      "video views                                  0\n",
      "category                                    46\n",
      "Title                                        0\n",
      "uploads                                      0\n",
      "Country                                    122\n",
      "Abbreviation                               122\n",
      "channel_type                                30\n",
      "video_views_rank                             1\n",
      "country_rank                               116\n",
      "channel_type_rank                           33\n",
      "video_views_for_the_last_30_days            56\n",
      "lowest_monthly_earnings                      0\n",
      "highest_monthly_earnings                     0\n",
      "lowest_yearly_earnings                       0\n",
      "highest_yearly_earnings                      0\n",
      "subscribers_for_last_30_days               337\n",
      "created_year                                 5\n",
      "created_month                                5\n",
      "created_date                                 5\n",
      "Gross tertiary education enrollment (%)    123\n",
      "Population                                 123\n",
      "Unemployment rate                          123\n",
      "Urban_population                           123\n",
      "Latitude                                   123\n",
      "Longitude                                  123\n",
      "dtype: int64\n",
      "rank                                         int64\n",
      "Youtuber                                    object\n",
      "subscribers                                  int64\n",
      "video views                                float64\n",
      "category                                    object\n",
      "Title                                       object\n",
      "uploads                                      int64\n",
      "Country                                     object\n",
      "Abbreviation                                object\n",
      "channel_type                                object\n",
      "video_views_rank                           float64\n",
      "country_rank                               float64\n",
      "channel_type_rank                          float64\n",
      "video_views_for_the_last_30_days           float64\n",
      "lowest_monthly_earnings                    float64\n",
      "highest_monthly_earnings                   float64\n",
      "lowest_yearly_earnings                     float64\n",
      "highest_yearly_earnings                    float64\n",
      "subscribers_for_last_30_days               float64\n",
      "created_year                               float64\n",
      "created_month                               object\n",
      "created_date                               float64\n",
      "Gross tertiary education enrollment (%)    float64\n",
      "Population                                 float64\n",
      "Unemployment rate                          float64\n",
      "Urban_population                           float64\n",
      "Latitude                                   float64\n",
      "Longitude                                  float64\n",
      "dtype: object\n"
     ]
    }
   ],
   "source": [
    "# Перевірка пропусків і підрахунок їх кількості в кожному стовпці\n",
    "missing_values = df.isna().sum()\n",
    "\n",
    "# Виведення кількості пропусків у кожному стовпці\n",
    "print(\"Кількість пропусків у кожному стовпці:\")\n",
    "print(missing_values)\n",
    "\n",
    "# Заміна пропусків на NaN і зміна типу даних на числовий\n",
    "df = df.fillna(np.nan)\n",
    "\n",
    "# Перевірка кожного стовпця на наявність np.nan\n",
    "for column in df.columns:\n",
    "    if df[column].isna().any():\n",
    "        try:\n",
    "            df[column] = df[column].astype(float)\n",
    "        except: \n",
    "            pass\n",
    "\n",
    "# Виведення інформації про типи даних після змін\n",
    "print(df.dtypes)"
   ]
  },
  {
   "cell_type": "raw",
   "id": "6ea0c99b-79b9-4c97-b700-71535c7177ad",
   "metadata": {},
   "source": [
    "5. Замініть комірки з пропущеними значенями на середні за стовпцем. І тип даних на float."
   ]
  },
  {
   "cell_type": "code",
   "execution_count": 43,
   "id": "87c1d41c-8a93-42a5-b6ee-4907ccc76906",
   "metadata": {},
   "outputs": [
    {
     "name": "stdout",
     "output_type": "stream",
     "text": [
      "     rank                    Youtuber  subscribers   video views  \\\n",
      "0       1                    T-Series    245000000  2.280000e+11   \n",
      "1       2              YouTube Movies    170000000  0.000000e+00   \n",
      "2       3                     MrBeast    166000000  2.836884e+10   \n",
      "3       4  Cocomelon - Nursery Rhymes    162000000  1.640000e+11   \n",
      "4       5                   SET India    159000000  1.480000e+11   \n",
      "..    ...                         ...          ...           ...   \n",
      "990   991               Natan por Aï¿     12300000  9.029610e+09   \n",
      "991   992    Free Fire India Official     12300000  1.674410e+09   \n",
      "992   993                       Panda     12300000  2.214684e+09   \n",
      "993   994                 RobTopGames     12300000  3.741235e+08   \n",
      "994   995                Make Joke Of     12300000  2.129774e+09   \n",
      "\n",
      "             category                       Title  uploads         Country  \\\n",
      "0               Music                    T-Series    20082           India   \n",
      "1    Film & Animation               youtubemovies        1   United States   \n",
      "2       Entertainment                     MrBeast      741   United States   \n",
      "3           Education  Cocomelon - Nursery Rhymes      966   United States   \n",
      "4               Shows                   SET India   116536           India   \n",
      "..                ...                         ...      ...             ...   \n",
      "990            Sports               Natan por Aï¿     1200          Brazil   \n",
      "991    People & Blogs    Free Fire India Official     1500           India   \n",
      "992               NaN                 HybridPanda     2452  United Kingdom   \n",
      "993            Gaming                 RobTopGames       39          Sweden   \n",
      "994            Comedy                Make Joke Of       62           India   \n",
      "\n",
      "    Abbreviation   channel_type  ...  subscribers_for_last_30_days  \\\n",
      "0             IN          Music  ...                  2.000000e+06   \n",
      "1             US          Games  ...                  3.490791e+05   \n",
      "2             US  Entertainment  ...                  8.000000e+06   \n",
      "3             US      Education  ...                  1.000000e+06   \n",
      "4             IN  Entertainment  ...                  1.000000e+06   \n",
      "..           ...            ...  ...                           ...   \n",
      "990           BR  Entertainment  ...                  7.000000e+05   \n",
      "991           IN          Games  ...                  3.000000e+05   \n",
      "992           GB          Games  ...                  1.000000e+03   \n",
      "993           SE          Games  ...                  1.000000e+05   \n",
      "994           IN         Comedy  ...                  1.000000e+05   \n",
      "\n",
      "     created_year  created_month  created_date  \\\n",
      "0          2006.0            Mar          13.0   \n",
      "1          2006.0            Mar           5.0   \n",
      "2          2012.0            Feb          20.0   \n",
      "3          2006.0            Sep           1.0   \n",
      "4          2006.0            Sep          20.0   \n",
      "..            ...            ...           ...   \n",
      "990        2017.0            Feb          12.0   \n",
      "991        2018.0            Sep          14.0   \n",
      "992        2006.0            Sep          11.0   \n",
      "993        2012.0            May           9.0   \n",
      "994        2017.0            Aug           1.0   \n",
      "\n",
      "     Gross tertiary education enrollment (%)    Population  Unemployment rate  \\\n",
      "0                                       28.1  1.366418e+09               5.36   \n",
      "1                                       88.2  3.282395e+08              14.70   \n",
      "2                                       88.2  3.282395e+08              14.70   \n",
      "3                                       88.2  3.282395e+08              14.70   \n",
      "4                                       28.1  1.366418e+09               5.36   \n",
      "..                                       ...           ...                ...   \n",
      "990                                     51.3  2.125594e+08              12.08   \n",
      "991                                     28.1  1.366418e+09               5.36   \n",
      "992                                     60.0  6.683440e+07               3.85   \n",
      "993                                     67.0  1.028545e+07               6.48   \n",
      "994                                     28.1  1.366418e+09               5.36   \n",
      "\n",
      "     Urban_population   Latitude  Longitude  \n",
      "0         471031528.0  20.593684  78.962880  \n",
      "1         270663028.0  37.090240 -95.712891  \n",
      "2         270663028.0  37.090240 -95.712891  \n",
      "3         270663028.0  37.090240 -95.712891  \n",
      "4         471031528.0  20.593684  78.962880  \n",
      "..                ...        ...        ...  \n",
      "990       183241641.0 -14.235004 -51.925280  \n",
      "991       471031528.0  20.593684  78.962880  \n",
      "992        55908316.0  55.378051  -3.435973  \n",
      "993         9021165.0  60.128161  18.643501  \n",
      "994       471031528.0  20.593684  78.962880  \n",
      "\n",
      "[995 rows x 28 columns]\n"
     ]
    }
   ],
   "source": [
    "# Знаходимо стовпці, які мають хоча б одне NaN значення\n",
    "columns_with_nan = df.columns[df.isna().any()].tolist()\n",
    "\n",
    "# Замінюємо NaN на середні значення тільки для вибраних стовпців\n",
    "for column in columns_with_nan:\n",
    "    # Перевіряємо тип даних стовпця (якщо це float або int)\n",
    "    if np.issubdtype(df[column].dtype, np.number):\n",
    "        column_mean = df[column].mean()\n",
    "        df[column] = df[column].fillna(column_mean)\n",
    "\n",
    "print(df)"
   ]
  },
  {
   "cell_type": "raw",
   "id": "baaf43b6-c231-4535-8008-a459202742ab",
   "metadata": {},
   "source": [
    "6. Ще раз перевірте кількість пропусків."
   ]
  },
  {
   "cell_type": "code",
   "execution_count": 44,
   "id": "5a776147-bae3-4bd8-a6c9-5ee955f44a7e",
   "metadata": {},
   "outputs": [
    {
     "name": "stdout",
     "output_type": "stream",
     "text": [
      "Кількість пропусків у кожному стовпці після обробки:\n",
      "rank                                         0\n",
      "Youtuber                                     0\n",
      "subscribers                                  0\n",
      "video views                                  0\n",
      "category                                    46\n",
      "Title                                        0\n",
      "uploads                                      0\n",
      "Country                                    122\n",
      "Abbreviation                               122\n",
      "channel_type                                30\n",
      "video_views_rank                             0\n",
      "country_rank                                 0\n",
      "channel_type_rank                            0\n",
      "video_views_for_the_last_30_days             0\n",
      "lowest_monthly_earnings                      0\n",
      "highest_monthly_earnings                     0\n",
      "lowest_yearly_earnings                       0\n",
      "highest_yearly_earnings                      0\n",
      "subscribers_for_last_30_days                 0\n",
      "created_year                                 0\n",
      "created_month                                5\n",
      "created_date                                 0\n",
      "Gross tertiary education enrollment (%)      0\n",
      "Population                                   0\n",
      "Unemployment rate                            0\n",
      "Urban_population                             0\n",
      "Latitude                                     0\n",
      "Longitude                                    0\n",
      "dtype: int64\n"
     ]
    }
   ],
   "source": [
    "# Перевірка кількості пропусків у кожному стовпці\n",
    "missing_values_after = df.isna().sum()\n",
    "\n",
    "# Виведення кількості пропусків у кожному стовпці після обробки\n",
    "print(\"Кількість пропусків у кожному стовпці після обробки:\")\n",
    "print(missing_values_after)"
   ]
  },
  {
   "cell_type": "raw",
   "id": "5abf178e-3304-40e8-9550-d7b24ad218a0",
   "metadata": {},
   "source": [
    "7. Перевірте, скільки унікальних країн представлено у колонці \"Country\" "
   ]
  },
  {
   "cell_type": "code",
   "execution_count": 45,
   "id": "abdf319e-326f-4bc9-a829-cf06c38264d5",
   "metadata": {},
   "outputs": [
    {
     "name": "stdout",
     "output_type": "stream",
     "text": [
      "Кількість унікальних країн у колонці 'Country': 49\n"
     ]
    }
   ],
   "source": [
    "# Підрахунок кількості унікальних країн у колонці \"Country\"\n",
    "unique_countries = df['Country'].nunique()\n",
    "\n",
    "# Виведення кількості унікальних країн\n",
    "print(\"Кількість унікальних країн у колонці 'Country':\", unique_countries)"
   ]
  },
  {
   "cell_type": "raw",
   "id": "b88369bc-7d65-4178-a162-577aab1a21da",
   "metadata": {},
   "source": [
    "8. Побудуйте діаграму розподілу переглядів (використовуйте kind='hist'): "
   ]
  },
  {
   "cell_type": "code",
   "execution_count": 50,
   "id": "a126193c-1fa5-4a4b-8d2d-25f63fb3e79d",
   "metadata": {},
   "outputs": [
    {
     "data": {
      "image/png": "[encoded data removed]",
      "text/plain": [
       "<Figure size 640x480 with 1 Axes>"
      ]
     },
     "metadata": {},
     "output_type": "display_data"
    }
   ],
   "source": [
    "import matplotlib.pyplot as plt\n",
    "\n",
    "# Кількість елементів у стовпці \"Views\"\n",
    "num_elements = len(df['video views'])\n",
    "\n",
    "# Визначення кількості інтервалів (bins)\n",
    "bins = int(num_elements)  # Можете вибрати інший спосіб обчислення bins за вашими потребами\n",
    "\n",
    "# Побудова гістограми розподілу переглядів\n",
    "df['video views'].plot(kind='hist', bins=bins, edgecolor='black')\n",
    "\n",
    "# Налаштування назви графіку та осей\n",
    "plt.title('Розподіл переглядів')\n",
    "plt.xlabel('Перегляди')\n",
    "plt.ylabel('Частота')\n",
    "\n",
    "# Відображення графіку\n",
    "plt.show()"
   ]
  },
  {
   "cell_type": "raw",
   "id": "4b662ad2-f054-4b7c-bed7-c55f68bccccf",
   "metadata": {},
   "source": [
    "9. Визначте максимальну, мінімальну, середню кількість переглядів (використовуйте методи max, min, mean)"
   ]
  },
  {
   "cell_type": "code",
   "execution_count": 51,
   "id": "fb5b8aee-3b65-4545-a14c-4f365af0cda8",
   "metadata": {},
   "outputs": [
    {
     "name": "stdout",
     "output_type": "stream",
     "text": [
      "Максимальна кількість переглядів: 228000000000.0\n",
      "Мінімальна кількість переглядів: 0.0\n",
      "Середня кількість переглядів: 11039537052.03819\n"
     ]
    }
   ],
   "source": [
    "views_column_name = 'video views'\n",
    "\n",
    "# Максимальна кількість переглядів\n",
    "max_views = df[views_column_name].max()\n",
    "\n",
    "# Мінімальна кількість переглядів\n",
    "min_views = df[views_column_name].min()\n",
    "\n",
    "# Середня кількість переглядів\n",
    "mean_views = df[views_column_name].mean()\n",
    "\n",
    "# Виведення результатів\n",
    "print(\"Максимальна кількість переглядів:\", max_views)\n",
    "print(\"Мінімальна кількість переглядів:\", min_views)\n",
    "print(\"Середня кількість переглядів:\", mean_views)\n"
   ]
  },
  {
   "cell_type": "raw",
   "id": "8f3c731f-dce2-4cdc-a416-d8827ef0d134",
   "metadata": {},
   "source": [
    "10.Знайдіть країну, де найбільше відео було завантажено на YouTube "
   ]
  },
  {
   "cell_type": "code",
   "execution_count": 52,
   "id": "528ca982-09fd-4dfd-b71f-44db47e9efb3",
   "metadata": {},
   "outputs": [
    {
     "name": "stdout",
     "output_type": "stream",
     "text": [
      "Країна з найбільшою кількістю відео на YouTube: United States\n"
     ]
    }
   ],
   "source": [
    "# Підрахунок кількості відео для кожної країни\n",
    "country_counts = df['Country'].value_counts()\n",
    "\n",
    "# Знаходження країни з найбільшою кількістю відео\n",
    "most_videos_country = country_counts.idxmax()\n",
    "\n",
    "# Виведення результату\n",
    "print(\"Країна з найбільшою кількістю відео на YouTube:\", most_videos_country)"
   ]
  },
  {
   "cell_type": "raw",
   "id": "2e4b9481-f27d-4413-91fd-c382c2024222",
   "metadata": {},
   "source": [
    "11. Знайдіть відео (виведіть його назву) з найбільшою та найменшою кількістю завантажень uploads. "
   ]
  },
  {
   "cell_type": "code",
   "execution_count": 54,
   "id": "f00f7d21-6999-427a-a374-94da7a1ff6a7",
   "metadata": {},
   "outputs": [
    {
     "name": "stdout",
     "output_type": "stream",
     "text": [
      "Канал з найбільшою кількістю завантажень: ABP NEWS\n",
      "Канал з найменшою кількістю завантажень: Music\n"
     ]
    }
   ],
   "source": [
    "# Знаходження рядка з найбільшою кількістю завантажень\n",
    "max_uploads_video = df[df['uploads'] == df['uploads'].max()]['Youtuber'].values[0]\n",
    "\n",
    "# Виведення назви каналу з найбільшою кількістю завантажень\n",
    "print(\"Канал з найбільшою кількістю завантажень:\", max_uploads_video)\n",
    "\n",
    "# Знаходження рядка з найменшою кількістю завантажень\n",
    "min_uploads_video = df[df['uploads'] == df['uploads'].min()]['Youtuber'].values[0]\n",
    "\n",
    "# Виведення назви каналу з найменшою кількістю завантажень\n",
    "print(\"Канал з найменшою кількістю завантажень:\", min_uploads_video)"
   ]
  },
  {
   "cell_type": "raw",
   "id": "5260cd55-46d1-4011-bddf-15e45d10c962",
   "metadata": {},
   "source": [
    "Висновок\n",
    "\n",
    "я навчився:\n",
    "\n",
    "Робота з даними: Я навчився завантажувати дані з CSV-файлів та використовувати бібліотеку pandas для їх обробки та аналізу.\n",
    "\n",
    "Візуалізація даних: Я навчився використовувати бібліотеку matplotlib для створення графіків та гістограм, що допомогло мені візуалізувати дані та аналізувати їх.\n",
    "\n",
    "Робота з числовими даними: Я навчився знаходити максимальні, мінімальні та середні значення у числових масивах даних та робити різні операції над числовими даними.\n",
    "\n",
    "Робота з умовами та циклами: Я використовував умовні оператори та цикли для фільтрації даних та виконання різних завдань.\n",
    "\n",
    "Робота з рядками та списками: Я навчився взаємодіяти з рядками та списками, використовуючи різні операції та методи."
   ]
  },
  {
   "cell_type": "code",
   "execution_count": null,
   "id": "fe7298d6-0a07-425a-b94b-dd53e869160f",
   "metadata": {},
   "outputs": [],
   "source": []
  }
 ],
 "metadata": {
  "kernelspec": {
   "display_name": "Python 3 (ipykernel)",
   "language": "python",
   "name": "python3"
  },
  "language_info": {
   "codemirror_mode": {
    "name": "ipython",
    "version": 3
   },
   "file_extension": ".py",
   "mimetype": "text/x-python",
   "name": "python",
   "nbconvert_exporter": "python",
   "pygments_lexer": "ipython3",
   "version": "3.11.4"
  }
 },
 "nbformat": 4,
 "nbformat_minor": 5
}
