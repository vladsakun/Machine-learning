{
 "cells": [
  {
   "cell_type": "raw",
   "id": "8f3721aa-4ba8-4b19-bbb5-6c444e85fc21",
   "metadata": {},
   "source": [
    "1. Завантажте файл Housing.csv. Виведіть перші 5 рядків."
   ]
  },
  {
   "cell_type": "code",
   "execution_count": 11,
   "id": "385fcfb3-075f-4979-b3de-25d9a36abae3",
   "metadata": {},
   "outputs": [
    {
     "name": "stdout",
     "output_type": "stream",
     "text": [
      "      price  area  bedrooms  bathrooms  stories mainroad guestroom basement  \\\n",
      "0  13300000  7420         4          2        3      yes        no       no   \n",
      "1  12250000  8960         4          4        4      yes        no       no   \n",
      "2  12250000  9960         3          2        2      yes        no      yes   \n",
      "3  12215000  7500         4          2        2      yes        no      yes   \n",
      "4  11410000  7420         4          1        2      yes       yes      yes   \n",
      "\n",
      "  hotwaterheating airconditioning  parking prefarea furnishingstatus  \n",
      "0              no             yes        2      yes        furnished  \n",
      "1              no             yes        3       no        furnished  \n",
      "2              no              no        2      yes   semi-furnished  \n",
      "3              no             yes        3      yes        furnished  \n",
      "4              no             yes        2       no        furnished  \n"
     ]
    }
   ],
   "source": [
    "import pandas as pd\n",
    "import numpy as np\n",
    "from sklearn.model_selection import train_test_split\n",
    "from sklearn.linear_model import LinearRegression\n",
    "from sklearn.preprocessing import StandardScaler\n",
    "import matplotlib.pyplot as plt\n",
    "\n",
    "# Завантаження даних\n",
    "data = pd.read_csv('Housing.csv')\n",
    "# Виведіть перші 5 рядків\n",
    "print(data.head(5))"
   ]
  },
  {
   "cell_type": "raw",
   "id": "a024efc7-226a-4332-aa12-0b22f5c33d15",
   "metadata": {},
   "source": [
    "2. Зробіть новий датасет, який містить тільки ці стовпчики. \n",
    "\n",
    "columns = ['price', 'area', 'bedrooms', 'bathrooms']"
   ]
  },
  {
   "cell_type": "code",
   "execution_count": 12,
   "id": "f3c8caa5-612e-4fc1-8ce4-ca4c84f9cb69",
   "metadata": {},
   "outputs": [],
   "source": [
    "# Вибір стовпців для нового датасету\n",
    "columns = ['price', 'area', 'bedrooms', 'bathrooms']\n",
    "new_data = data[columns]"
   ]
  },
  {
   "cell_type": "raw",
   "id": "3ba8984e-73ba-43b3-8259-02bfdc6278ef",
   "metadata": {},
   "source": [
    "3. Проведіть попередній аналіз даних: вивчіть структуру даних, перевірте наявність відсутніх значень та інші особливості даних. \n",
    "Зробити це  по аналогії з попередніми роботами (визначити тип даних, перевірити наявність “-“, замінити на Nan, потім змінити тип даних на float, потім на середнє значення за стовпчиком."
   ]
  },
  {
   "cell_type": "code",
   "execution_count": 13,
   "id": "3c9a7327-1127-4324-ad19-7c6d460c8df7",
   "metadata": {},
   "outputs": [
    {
     "name": "stdout",
     "output_type": "stream",
     "text": [
      "<class 'pandas.core.frame.DataFrame'>\n",
      "RangeIndex: 545 entries, 0 to 544\n",
      "Data columns (total 4 columns):\n",
      " #   Column     Non-Null Count  Dtype\n",
      "---  ------     --------------  -----\n",
      " 0   price      545 non-null    int64\n",
      " 1   area       545 non-null    int64\n",
      " 2   bedrooms   545 non-null    int64\n",
      " 3   bathrooms  545 non-null    int64\n",
      "dtypes: int64(4)\n",
      "memory usage: 17.2 KB\n",
      "None\n",
      "price        0\n",
      "area         0\n",
      "bedrooms     0\n",
      "bathrooms    0\n",
      "dtype: int64\n",
      "        price    area  bedrooms  bathrooms\n",
      "0  13300000.0  7420.0       4.0        2.0\n",
      "1  12250000.0  8960.0       4.0        4.0\n",
      "2  12250000.0  9960.0       3.0        2.0\n",
      "3  12215000.0  7500.0       4.0        2.0\n",
      "4  11410000.0  7420.0       4.0        1.0\n"
     ]
    }
   ],
   "source": [
    "# Попередній аналіз даних\n",
    "print(new_data.info())  # Виведення інформації про датасет\n",
    "print(new_data.isnull().sum())  # Перевірка на відсутні значення\n",
    "\n",
    "# Заміна \"-\" на NaN та перетворення типів даних на float\n",
    "new_data = new_data.replace('-', np.nan)\n",
    "new_data = new_data.astype(float)\n",
    "\n",
    "# Заповнення відсутніх значень середніми значеннями стовпців\n",
    "new_data.fillna(new_data.mean(), inplace=True)\n",
    "print(new_data.head(5))"
   ]
  },
  {
   "cell_type": "raw",
   "id": "be360470-b05d-4913-9886-c0c124400dd3",
   "metadata": {},
   "source": [
    "4. Нормалізуйте дані перед подальшим використанням. Це може покращити швидкість навчання моделі та поліпшити її стабільність. Дані для лінійної регресії нормалізуються так, щоб їх середнє значення було близьким до 0, а стандартне відхилення - близьким до 1."
   ]
  },
  {
   "cell_type": "code",
   "execution_count": 14,
   "id": "176214dd-157b-4eb0-acf9-53203e5a6009",
   "metadata": {},
   "outputs": [],
   "source": [
    "# Нормалізація даних\n",
    "scaler = StandardScaler()\n",
    "scaled_data = scaler.fit_transform(new_data)"
   ]
  },
  {
   "cell_type": "raw",
   "id": "933eb37f-8508-4798-bd0d-72caac86d601",
   "metadata": {},
   "source": [
    "5. Розділіть дані на навчальний та тестовий набори для подальшого оцінювання моделі.\n",
    "6. Підготуйте дані: виберіть атрибути (площа, кількість ванних кімнат, кількість спалень) та цільову змінну (ціну на будинок)."
   ]
  },
  {
   "cell_type": "code",
   "execution_count": 15,
   "id": "01651c76-b90a-41c7-a0a8-dfe8dcaeeeae",
   "metadata": {},
   "outputs": [],
   "source": [
    "# Розділення даних на навчальний та тестовий набори\n",
    "X = scaled_data[:, 1:]  # Атрибути (площа, кількість ванних кімнат, кількість спалень)\n",
    "y = scaled_data[:, 0]  # Цільова змінна (ціна на будинок)\n",
    "X_train, X_test, y_train, y_test = train_test_split(X, y, test_size=0.2, random_state=42)"
   ]
  },
  {
   "cell_type": "raw",
   "id": "5a4901df-59b3-450f-8fe6-1689bfd43b7e",
   "metadata": {},
   "source": [
    "7. Побудуйте модель лінійної регресії та навчіть її на навчальних даних. "
   ]
  },
  {
   "cell_type": "code",
   "execution_count": 16,
   "id": "4188719a-8ae1-4bad-8a9a-17a377d91cf0",
   "metadata": {},
   "outputs": [
    {
     "name": "stdout",
     "output_type": "stream",
     "text": [
      "coef [0.40082084 0.14213176 0.38208794]\n"
     ]
    },
    {
     "data": {
      "text/plain": [
       "-0.016281754425403302"
      ]
     },
     "execution_count": 16,
     "metadata": {},
     "output_type": "execute_result"
    }
   ],
   "source": [
    "# Побудова моделі лінійної регресії та її навчання\n",
    "model = LinearRegression()\n",
    "model.fit(X_train, y_train)\n",
    "\n",
    "#coef\n",
    "print(f\"coef {model.coef_}\")\n",
    "\n",
    "#intercept\n",
    "model.intercept_"
   ]
  },
  {
   "cell_type": "raw",
   "id": "39a7bb3c-fa73-43ed-a6b3-7d806531c623",
   "metadata": {},
   "source": [
    "8. Оцініть якість моделі на тестових даних, використовуючи показники, такі як середньоквадратична помилка (RMSE) та коефіцієнт детермінації (𝑅2). \n",
    "Потім застосуйте  крос-валідацію для підвищення якості моделі.\n",
    "Порівняйте результати (без крос-валідації і з крос-валідацією)."
   ]
  },
  {
   "cell_type": "code",
   "execution_count": 17,
   "id": "d44cd3eb-4fe0-4008-9e29-a6497bf0fb5b",
   "metadata": {},
   "outputs": [
    {
     "name": "stdout",
     "output_type": "stream",
     "text": [
      "RMSE: 0.8874106823867894\n",
      "R-squared (коефіцієнт детермінації): 0.45592991188724485\n",
      "Середній R-squared після крос-валідації: -13.989158180111716\n",
      "\n",
      "Модель без крос-валідації має кращий R-squared на тестовому наборі.\n"
     ]
    }
   ],
   "source": [
    "from sklearn.metrics import mean_squared_error, r2_score\n",
    "from sklearn.model_selection import cross_val_score\n",
    "\n",
    "# Оцінка моделі на тестових даних\n",
    "y_pred = model.predict(X_test)\n",
    "\n",
    "# RMSE\n",
    "rmse = np.sqrt(mean_squared_error(y_test, y_pred))\n",
    "print(f'RMSE: {rmse}')\n",
    "\n",
    "# R-squared\n",
    "r2 = r2_score(y_test, y_pred)\n",
    "print(f'R-squared (коефіцієнт детермінації): {r2}')\n",
    "\n",
    "# Крос-валідація\n",
    "cv_scores = cross_val_score(model, X, y, cv=5)\n",
    "mean_r2_with_cv = np.mean(cv_scores)\n",
    "print(f'Середній R-squared після крос-валідації: {mean_r2_with_cv}\\n')\n",
    "\n",
    "if r2 > mean_r2_with_cv:\n",
    "    print('Модель без крос-валідації має кращий R-squared на тестовому наборі.')\n",
    "elif r2_without_cv < mean_r2_with_cv:\n",
    "    print('Модель з крос-валідацією має кращий середній R-squared після крос-валідації.')\n",
    "else:\n",
    "    print('Результати R-squared без крос-валідації та з крос-валідацією майже ідентичні.')"
   ]
  },
  {
   "cell_type": "raw",
   "id": "e7929ac3-0c2a-429c-a05d-ce4ce0e6836a",
   "metadata": {},
   "source": [
    "9. Виконайте аналіз результатів та виведіть прогнозовані ціни на будинки для тестового набору даних. "
   ]
  },
  {
   "cell_type": "code",
   "execution_count": 18,
   "id": "735718b0-063d-47fb-a2f5-2b8e97f2bf60",
   "metadata": {
    "scrolled": true
   },
   "outputs": [
    {
     "name": "stdout",
     "output_type": "stream",
     "text": [
      "   Predicted Price    Area  Bedrooms  Bathrooms\n",
      "0     6.383168e+06  5900.0       4.0        2.0\n",
      "1     6.230250e+06  6500.0       3.0        2.0\n",
      "2     3.597885e+06  4040.0       2.0        1.0\n",
      "3     4.289731e+06  5000.0       3.0        1.0\n",
      "4     3.930446e+06  3960.0       3.0        1.0\n",
      "5     4.883933e+06  6720.0       3.0        1.0\n",
      "6     5.505773e+06  8520.0       3.0        1.0\n",
      "7     6.068793e+06  4990.0       4.0        2.0\n",
      "8     3.321512e+06  3240.0       2.0        1.0\n",
      "9     3.495158e+06  2700.0       3.0        1.0\n"
     ]
    }
   ],
   "source": [
    "# Прогнозовані ціни на будинки для тестового набору даних\n",
    "predicted_prices = scaler.inverse_transform(np.concatenate([y_pred.reshape(-1, 1), X_test], axis=1))\n",
    "predicted_prices = pd.DataFrame(predicted_prices, columns=['Predicted Price', 'Area', 'Bedrooms', 'Bathrooms'])\n",
    "\n",
    "# Виведення прогнозованих цін на будинки для тестового набору даних\n",
    "print(predicted_prices.head(10))"
   ]
  },
  {
   "cell_type": "raw",
   "id": "6b5b376e-ddd8-4ccb-adc0-3c7dcc189b3d",
   "metadata": {},
   "source": [
    "Частина 2: Знайдіть параметри аналітичним рішенням \n",
    "\n",
    "Визначте аналітично коефіцієнти лінійної регресії (ваги моделі) для цієї задачі, використовуючи формулу для спрощеного аналітичного рішення лінійної регресії. "
   ]
  },
  {
   "cell_type": "code",
   "execution_count": 19,
   "id": "b2a1cfd7-8636-4bc5-a33e-5b4f1c7e7542",
   "metadata": {},
   "outputs": [
    {
     "name": "stdout",
     "output_type": "stream",
     "text": [
      "Аналітичні коефіцієнти (ваги моделі):\n",
      "[-0.01628175  0.40082084  0.14213176  0.38208794]\n"
     ]
    }
   ],
   "source": [
    "# Додавання стовпця з одиницями до матриці ознак для врахування зсуву (intercept)\n",
    "X_with_intercept = np.hstack([np.ones((X_train.shape[0], 1)), X_train])\n",
    "\n",
    "# Знаходження аналітичного рішення\n",
    "theta = np.linalg.inv(X_with_intercept.T @ X_with_intercept) @ X_with_intercept.T @ y_train\n",
    "\n",
    "# Виведення коефіцієнтів\n",
    "print('Аналітичні коефіцієнти (ваги моделі):')\n",
    "print(theta)"
   ]
  },
  {
   "cell_type": "raw",
   "id": "3b395ca9-55a0-441f-913d-9e6e4da4f680",
   "metadata": {},
   "source": [
    "Частина 3: Візуалізація результатів та порівняння \n",
    "\n",
    "Візуалізуйте дані та результати регресії: побудуйте графіки для ознайомлення з розподілом даних і лінійною регресійною моделлю. \n",
    "\n",
    "Порівняйте отримані параметри (коефіцієнти) лінійної регресії з аналітичними результатами та оцініть, наскільки схожі вони. \n",
    "\n",
    "Зробіть висновки щодо ефективності лінійної регресії у прогнозуванні цін на будинок на основі вказаних атрибутів та порівняння з аналітичним рішенням. \n",
    "12. ВИСНОВКИ з практичної роботи. "
   ]
  },
  {
   "cell_type": "code",
   "execution_count": 22,
   "id": "dd665a6c-cbd5-41f7-b009-37c3a9b1f6ee",
   "metadata": {},
   "outputs": [
    {
     "data": {
      "image/png": "[encoded data removed]",
      "text/plain": [
       "<Figure size 2000x600 with 2 Axes>"
      ]
     },
     "metadata": {},
     "output_type": "display_data"
    },
    {
     "name": "stdout",
     "output_type": "stream",
     "text": [
      "Коефіцієнти лінійної регресії (ваги моделі):\n",
      "Аналітичний розв'язок: [-0.01628175  0.40082084  0.14213176  0.38208794]\n",
      "Результат лінійної регресії на тестовому наборі: [0.40082084 0.14213176 0.38208794]\n"
     ]
    }
   ],
   "source": [
    "# Побудова графіків для ознайомлення з розподілом даних та регресійною моделлю\n",
    "plt.figure(figsize=(20, 6))\n",
    "\n",
    "# Графік дійсних цін на будинки та прогнозованих цін\n",
    "plt.subplot(1, 2, 1)\n",
    "plt.scatter(y_test, y_pred)\n",
    "plt.xlabel(\"Дійсні ціни на будинки\")\n",
    "plt.ylabel(\"Прогнозовані ціни на будинки\")\n",
    "plt.title(\"Порівняння дійсних та прогнозованих цін\")\n",
    "\n",
    "# Графік розподілу помилок (решток)\n",
    "residuals = y_test - y_pred\n",
    "plt.subplot(1, 2, 2)\n",
    "plt.hist(residuals, bins=30)\n",
    "plt.xlabel(\"Помилка прогнозу\")\n",
    "plt.ylabel(\"Кількість спостережень\")\n",
    "plt.title(\"Розподіл помилок\")\n",
    "\n",
    "plt.tight_layout()\n",
    "plt.show()\n",
    "\n",
    "# Порівняння коефіцієнтів лінійної регресії з аналітичними результатами\n",
    "print('Коефіцієнти лінійної регресії (ваги моделі):')\n",
    "print('Аналітичний розв\\'язок:', theta)\n",
    "print('Результат лінійної регресії на тестовому наборі:', model.coef_)"
   ]
  },
  {
   "cell_type": "raw",
   "id": "49529113-f40b-442f-934a-69c8b5aea84d",
   "metadata": {},
   "source": [
    "Висновки: \n",
    "1. Графіки показують, що регресійна модель непогано передбачає ціни на будинки, але є деякі відхилення.\n",
    "2. Порівняння аналітичного розв'язку та результатів лінійної регресії показує подібність коефіцієнтів.\n",
    "3. Лінійна регресія може бути ефективним інструментом для прогнозування цін на будинки на основі вказаних атрибутів, за умови, що передбачення необхідно в межах лінійного моделювання.\n",
    "4. Лінійна регресія не дуже ефективна, оскільки R-squared (коефіцієнт детермінації): 0.45592991188724485. Для того щоб лінійна регресія вважалась ефективною R-squared має бути дуже близьким до 1. Для покращення ефективності лінійної регресії ми можемо переглянути атрибути на яких ми тренуємо нашу модель."
   ]
  }
 ],
 "metadata": {
  "kernelspec": {
   "display_name": "Python 3 (ipykernel)",
   "language": "python",
   "name": "python3"
  },
  "language_info": {
   "codemirror_mode": {
    "name": "ipython",
    "version": 3
   },
   "file_extension": ".py",
   "mimetype": "text/x-python",
   "name": "python",
   "nbconvert_exporter": "python",
   "pygments_lexer": "ipython3",
   "version": "3.11.4"
  }
 },
 "nbformat": 4,
 "nbformat_minor": 5
}
